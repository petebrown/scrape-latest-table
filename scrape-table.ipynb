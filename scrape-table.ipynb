{
 "cells": [
  {
   "cell_type": "code",
   "execution_count": 5,
   "metadata": {},
   "outputs": [
    {
     "name": "stdout",
     "output_type": "stream",
     "text": [
      "No new games found\n"
     ]
    }
   ],
   "source": [
    "import requests\n",
    "from bs4 import BeautifulSoup\n",
    "import pandas as pd\n",
    "\n",
    "def construct_url(competition, game_date):\n",
    "    game_date = pd.to_datetime(game_date)\n",
    "    day = game_date.day\n",
    "    month = game_date.month_name().lower()\n",
    "    year = game_date.year\n",
    "    division = competition.lower().replace(\" \", \"-\").replace(\"(\", \"\").replace(\")\", \"\")\n",
    "\n",
    "    if day < 10:\n",
    "        day = f'0{day}'\n",
    "    url = f\"https://www.11v11.com/league-tables/{division}/{day}-{month}-{year}/\"\n",
    "    \n",
    "    return url\n",
    "\n",
    "headers = {\n",
    "    'User-Agent': 'Mozilla/5.0 (Macintosh; Intel Mac OS X 10_15_7) AppleWebKit/537.36 (KHTML, like Gecko) Chrome/103.0.0.0 Safari/537.36'\n",
    "}\n",
    "\n",
    "tabs_df = pd.read_csv(\"./data/lge_tables.csv\", parse_dates=[\"game_date\"])\n",
    "latest_tab = tabs_df.game_date.max()\n",
    "\n",
    "results_df = pd.read_csv(\"https://raw.githubusercontent.com/petebrown/data-updater/main/data/results.csv\", parse_dates=[\"game_date\"])\n",
    "lge_df = results_df[results_df.game_type == \"League\"][[\"season\", \"game_date\", \"ssn_comp_game_no\", \"competition\"]].rename(columns = {\"ssn_comp_game_no\": \"game_no\"})\n",
    "\n",
    "latest_game = lge_df.game_date.max()\n",
    "\n",
    "if latest_game > latest_tab:\n",
    "    print(\"New games found\")\n",
    "    \n",
    "    new_games = lge_df[lge_df.game_date > latest_tab].copy()\n",
    "    \n",
    "    new_games['url'] = new_games.apply(lambda x: construct_url(x.competition, x.game_date), axis = 1)\n",
    "\n",
    "    urls = new_games['url'].to_list()\n",
    "\n",
    "    new_tables = []\n",
    "\n",
    "    for url in urls:\n",
    "        r = requests.get(url, headers = headers)\n",
    "        doc = BeautifulSoup(r.text, 'html.parser')\n",
    "\n",
    "        table = pd.read_html(str(doc))[0]\n",
    "\n",
    "        table[\"pos\"] = table.index + 1\n",
    "        table[\"url\"] = url\n",
    "        \n",
    "        table = table[['pos', 'Team', 'Pld', 'W', 'D', 'L', 'GF', 'GA', 'Pts', 'url']]\n",
    "        \n",
    "        new_tables.append(table)\n",
    "    \n",
    "    new_tables = pd.concat(new_tables)\n",
    "    new_tables = new_tables.merge(new_games, on = \"url\", how = \"left\")\n",
    "    new_tables = new_tables[[\"season\", \"game_no\", \"game_date\", \"pos\", \"Team\", \"Pld\", \"W\", \"D\", \"L\", \"GF\", \"GA\", \"Pts\", \"url\"]]\n",
    "\n",
    "    tabs_df = pd.concat([tabs_df, new_tables]).sort_values([\"game_date\", \"pos\"], ascending = [0, 1]).reset_index(drop = True)\n",
    "\n",
    "    tabs_df.to_csv(\"./data/lge_tables.csv\", index = False)    \n",
    "else:\n",
    "    print(\"No new games found\")"
   ]
  },
  {
   "cell_type": "code",
   "execution_count": null,
   "metadata": {},
   "outputs": [],
   "source": []
  }
 ],
 "metadata": {
  "kernelspec": {
   "display_name": "Python 3",
   "language": "python",
   "name": "python3"
  },
  "language_info": {
   "codemirror_mode": {
    "name": "ipython",
    "version": 3
   },
   "file_extension": ".py",
   "mimetype": "text/x-python",
   "name": "python",
   "nbconvert_exporter": "python",
   "pygments_lexer": "ipython3",
   "version": "3.11.3"
  },
  "orig_nbformat": 4
 },
 "nbformat": 4,
 "nbformat_minor": 2
}
